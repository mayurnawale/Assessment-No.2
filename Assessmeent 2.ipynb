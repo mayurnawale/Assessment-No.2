{
 "cells": [
  {
   "cell_type": "code",
   "execution_count": 1,
   "id": "552ab028",
   "metadata": {},
   "outputs": [
    {
     "data": {
      "text/plain": [
       "30"
      ]
     },
     "execution_count": 1,
     "metadata": {},
     "output_type": "execute_result"
    }
   ],
   "source": [
    "#question 1.\n",
    "file = open(\"example.txt\",\"w\") #Creating the file \n",
    "file.write(\"This is a placement assignment\") #Writing the text file which we have created"
   ]
  },
  {
   "cell_type": "code",
   "execution_count": 2,
   "id": "77cc2bbf",
   "metadata": {},
   "outputs": [
    {
     "data": {
      "text/plain": [
       "<_io.TextIOWrapper name='example.txt' mode='r' encoding='cp1252'>"
      ]
     },
     "execution_count": 2,
     "metadata": {},
     "output_type": "execute_result"
    }
   ],
   "source": [
    "file.close() #we have to close the file to save the system resources\n",
    "open('example.txt','r')"
   ]
  },
  {
   "cell_type": "code",
   "execution_count": 3,
   "id": "8ccbfeea",
   "metadata": {},
   "outputs": [
    {
     "data": {
      "text/plain": [
       "'This is a placement assignment'"
      ]
     },
     "execution_count": 3,
     "metadata": {},
     "output_type": "execute_result"
    }
   ],
   "source": [
    "d = open(\"example.txt\")\n",
    "d.read()"
   ]
  },
  {
   "cell_type": "code",
   "execution_count": 4,
   "id": "0bfe027e",
   "metadata": {},
   "outputs": [
    {
     "data": {
      "text/plain": [
       "'This is a screening assignment'"
      ]
     },
     "execution_count": 4,
     "metadata": {},
     "output_type": "execute_result"
    }
   ],
   "source": [
    "def replace_string(search_text, replace_text):\n",
    "    with open('example.txt', 'r') as file:\n",
    "        data = file.read()\n",
    "        data = data.replace(search_text, replace_text)\n",
    "        with open('example.txt', 'w') as file:\n",
    "            file.write(data)\n",
    "replace_string('placement', 'screening')\n",
    "file2 = open('example.txt','r')\n",
    "file2.read()"
   ]
  },
  {
   "cell_type": "code",
   "execution_count": 5,
   "id": "c96db9e9",
   "metadata": {},
   "outputs": [
    {
     "name": "stdout",
     "output_type": "stream",
     "text": [
      "I can walk and run\n",
      "I can crawl\n",
      "I can bark\n",
      "I can roar\n"
     ]
    }
   ],
   "source": [
    "#2.1 abstract class\n",
    "# Python program showing\n",
    "# abstract base class work\n",
    "\n",
    "from abc import ABC, abstractmethod\n",
    "class Animal(ABC):\n",
    "\n",
    "  def move(self):\n",
    "    pass\n",
    "\n",
    "class Human(Animal):\n",
    "\n",
    "  def move(self):\n",
    "    print(\"I can walk and run\")\n",
    "\n",
    "class Snake(Animal):\n",
    "\n",
    "  def move(self):\n",
    "    print(\"I can crawl\")\n",
    "\n",
    "class Dog(Animal):\n",
    "\n",
    "  def move(self):\n",
    "    print(\"I can bark\")\n",
    "\n",
    "class Lion(Animal):\n",
    "\n",
    "  def move(self):\n",
    "    print(\"I can roar\")\n",
    "    \n",
    "# Driver code\n",
    "R = Human()\n",
    "R.move()\n",
    "\n",
    "K = Snake()\n",
    "K.move()\n",
    "\n",
    "R = Dog()\n",
    "R.move()\n",
    "\n",
    "K = Lion()\n",
    "K.move()"
   ]
  },
  {
   "cell_type": "code",
   "execution_count": 6,
   "id": "1cd14f6c",
   "metadata": {},
   "outputs": [],
   "source": [
    "# abstract class\n",
    "# A class is called an Abstract class if it contains one or more abstract methods. An abstract method is a method that is declared, but contains no implementation. Abstract classes may not be instantiated, and its abstract methods must be implemented by its subclasses.\n",
    "#A class which contains one or more abstract methods is called an abstract class."
   ]
  },
  {
   "cell_type": "code",
   "execution_count": 7,
   "id": "7fa8e01f",
   "metadata": {},
   "outputs": [
    {
     "name": "stdout",
     "output_type": "stream",
     "text": [
      " Forming class Dev\n"
     ]
    }
   ],
   "source": [
    "# 2.2 multiple inheritance\n",
    "\"\"\"\n",
    "Python program to demonstrate how MRO works\n",
    "  in multiple inheritance\n",
    "\"\"\"\n",
    "\n",
    "class Agile: \n",
    "   def create(self): \n",
    "      print(\" Forming class Agile\") \n",
    "class Dev(Agile): \n",
    "   def create(self): \n",
    "      print(\" Forming class Dev\") \n",
    "class QA(Agile): \n",
    "   def create(self): \n",
    "      print(\" Forming class QA\") \n",
    "\n",
    "# Ordering of classes\n",
    "class Sprint(Dev, QA): \n",
    "   pass\n",
    "\n",
    "sprint = Sprint() \n",
    "sprint.create()"
   ]
  },
  {
   "cell_type": "code",
   "execution_count": 8,
   "id": "7a331b52",
   "metadata": {},
   "outputs": [],
   "source": [
    "#multiple inheritance\n",
    "#A class can be derived from more than one base class in Python is called multiple inheritance.\n",
    "#In multiple inheritance the features of all the base classes are inherited into the derived class. \n",
    "#The syntax for multiple inheritance is similar to single inheritance."
   ]
  },
  {
   "cell_type": "code",
   "execution_count": 9,
   "id": "21c6cc45",
   "metadata": {},
   "outputs": [
    {
     "name": "stdout",
     "output_type": "stream",
     "text": [
      "I came from the inner function.\n"
     ]
    }
   ],
   "source": [
    "# 2.3 decorator\n",
    "def outer_function():\n",
    "\n",
    "    def inner_function():\n",
    "\n",
    "        print('I came from the inner function.')\n",
    "\n",
    "    # Executing the inner function inside the outer function.\n",
    "    inner_function()\n",
    "outer_function()\n"
   ]
  },
  {
   "cell_type": "code",
   "execution_count": 10,
   "id": "dffb0120",
   "metadata": {},
   "outputs": [],
   "source": [
    "#Decorator\n",
    "#A decorator is a design pattern in Python that allows a user to add new functionality to an existing object without modifying its structure.\n",
    "#Decorators are usually called before the definition of a function we want to decorate."
   ]
  }
 ],
 "metadata": {
  "kernelspec": {
   "display_name": "Python 3",
   "language": "python",
   "name": "python3"
  },
  "language_info": {
   "codemirror_mode": {
    "name": "ipython",
    "version": 3
   },
   "file_extension": ".py",
   "mimetype": "text/x-python",
   "name": "python",
   "nbconvert_exporter": "python",
   "pygments_lexer": "ipython3",
   "version": "3.8.8"
  }
 },
 "nbformat": 4,
 "nbformat_minor": 5
}
